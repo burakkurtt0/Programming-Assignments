{
 "cells": [
  {
   "cell_type": "markdown",
   "metadata": {},
   "source": [
    "# Assignment 2"
   ]
  },
  {
   "cell_type": "markdown",
   "metadata": {},
   "source": [
    "### Question 1) \n",
    "Read the \"earthquake.csv\" file as a DataFrame object. \n",
    "Each row represents a report sent from someone’s mobile phone indicating an emergency or some other problem. Each has an associated timestamp as \"incident date\" and a location as \"latitude\" and \"longitude\". Print the first 10 records for these 3 columns."
   ]
  },
  {
   "cell_type": "code",
   "execution_count": 2,
   "metadata": {},
   "outputs": [],
   "source": [
    "\n",
    "import pandas as pd\n",
    "import numpy as np\n",
    "import matplotlib.pyplot as plt\n",
    "import seaborn as sbn\n",
    "import datetime\n"
   ]
  },
  {
   "cell_type": "code",
   "execution_count": 3,
   "metadata": {},
   "outputs": [
    {
     "data": {
      "text/html": [
       "<div>\n",
       "<style scoped>\n",
       "    .dataframe tbody tr th:only-of-type {\n",
       "        vertical-align: middle;\n",
       "    }\n",
       "\n",
       "    .dataframe tbody tr th {\n",
       "        vertical-align: top;\n",
       "    }\n",
       "\n",
       "    .dataframe thead th {\n",
       "        text-align: right;\n",
       "    }\n",
       "</style>\n",
       "<table border=\"1\" class=\"dataframe\">\n",
       "  <thead>\n",
       "    <tr style=\"text-align: right;\">\n",
       "      <th></th>\n",
       "      <th>INCIDENT DATE</th>\n",
       "      <th>LATITUDE</th>\n",
       "      <th>LONGITUDE</th>\n",
       "    </tr>\n",
       "  </thead>\n",
       "  <tbody>\n",
       "    <tr>\n",
       "      <th>0</th>\n",
       "      <td>05/07/2010 17:26</td>\n",
       "      <td>18.233333</td>\n",
       "      <td>-72.533333</td>\n",
       "    </tr>\n",
       "    <tr>\n",
       "      <th>1</th>\n",
       "      <td>28/06/2010 23:06</td>\n",
       "      <td>50.226029</td>\n",
       "      <td>5.729886</td>\n",
       "    </tr>\n",
       "    <tr>\n",
       "      <th>2</th>\n",
       "      <td>24/06/2010 16:21</td>\n",
       "      <td>22.278381</td>\n",
       "      <td>114.174287</td>\n",
       "    </tr>\n",
       "    <tr>\n",
       "      <th>3</th>\n",
       "      <td>20/06/2010 21:59</td>\n",
       "      <td>44.407062</td>\n",
       "      <td>8.933989</td>\n",
       "    </tr>\n",
       "    <tr>\n",
       "      <th>4</th>\n",
       "      <td>18/05/2010 16:26</td>\n",
       "      <td>18.571084</td>\n",
       "      <td>-72.334671</td>\n",
       "    </tr>\n",
       "    <tr>\n",
       "      <th>5</th>\n",
       "      <td>26/04/2010 13:14</td>\n",
       "      <td>18.593707</td>\n",
       "      <td>-72.310079</td>\n",
       "    </tr>\n",
       "    <tr>\n",
       "      <th>6</th>\n",
       "      <td>26/04/2010 14:19</td>\n",
       "      <td>18.482800</td>\n",
       "      <td>-73.638800</td>\n",
       "    </tr>\n",
       "    <tr>\n",
       "      <th>7</th>\n",
       "      <td>26/04/2010 14:27</td>\n",
       "      <td>18.415000</td>\n",
       "      <td>-73.195000</td>\n",
       "    </tr>\n",
       "    <tr>\n",
       "      <th>8</th>\n",
       "      <td>15/03/2010 10:58</td>\n",
       "      <td>18.517443</td>\n",
       "      <td>-72.236841</td>\n",
       "    </tr>\n",
       "    <tr>\n",
       "      <th>9</th>\n",
       "      <td>15/03/2010 11:00</td>\n",
       "      <td>18.547790</td>\n",
       "      <td>-72.410010</td>\n",
       "    </tr>\n",
       "  </tbody>\n",
       "</table>\n",
       "</div>"
      ],
      "text/plain": [
       "      INCIDENT DATE   LATITUDE   LONGITUDE\n",
       "0  05/07/2010 17:26  18.233333  -72.533333\n",
       "1  28/06/2010 23:06  50.226029    5.729886\n",
       "2  24/06/2010 16:21  22.278381  114.174287\n",
       "3  20/06/2010 21:59  44.407062    8.933989\n",
       "4  18/05/2010 16:26  18.571084  -72.334671\n",
       "5  26/04/2010 13:14  18.593707  -72.310079\n",
       "6  26/04/2010 14:19  18.482800  -73.638800\n",
       "7  26/04/2010 14:27  18.415000  -73.195000\n",
       "8  15/03/2010 10:58  18.517443  -72.236841\n",
       "9  15/03/2010 11:00  18.547790  -72.410010"
      ]
     },
     "execution_count": 3,
     "metadata": {},
     "output_type": "execute_result"
    }
   ],
   "source": [
    "#solution code\n",
    "df = pd.read_csv(\"earthquake.csv\")\n",
    "\n",
    "\n",
    "df[[\"INCIDENT DATE\",\"LATITUDE\",\"LONGITUDE\"]].head(10)\n"
   ]
  },
  {
   "cell_type": "markdown",
   "metadata": {},
   "source": [
    "### Question 2)\n",
    "The CATEGORY field contains a comma-separated list of codes indicating the type of message. Check the rows for missing values in \"CATEGORY\" column. Show which entries in a dataFrame are missing."
   ]
  },
  {
   "cell_type": "code",
   "execution_count": 4,
   "metadata": {},
   "outputs": [
    {
     "name": "stdout",
     "output_type": "stream",
     "text": [
      "Number of records which have null value in CATEGORY column: 6\n"
     ]
    },
    {
     "data": {
      "text/html": [
       "<div>\n",
       "<style scoped>\n",
       "    .dataframe tbody tr th:only-of-type {\n",
       "        vertical-align: middle;\n",
       "    }\n",
       "\n",
       "    .dataframe tbody tr th {\n",
       "        vertical-align: top;\n",
       "    }\n",
       "\n",
       "    .dataframe thead th {\n",
       "        text-align: right;\n",
       "    }\n",
       "</style>\n",
       "<table border=\"1\" class=\"dataframe\">\n",
       "  <thead>\n",
       "    <tr style=\"text-align: right;\">\n",
       "      <th></th>\n",
       "      <th>Serial</th>\n",
       "      <th>INCIDENT TITLE</th>\n",
       "      <th>INCIDENT DATE</th>\n",
       "      <th>LOCATION</th>\n",
       "      <th>DESCRIPTION</th>\n",
       "      <th>CATEGORY</th>\n",
       "      <th>LATITUDE</th>\n",
       "      <th>LONGITUDE</th>\n",
       "      <th>APPROVED</th>\n",
       "      <th>VERIFIED</th>\n",
       "    </tr>\n",
       "  </thead>\n",
       "  <tbody>\n",
       "    <tr>\n",
       "      <th>1198</th>\n",
       "      <td>2777</td>\n",
       "      <td>Food needed in Castro area, near airport 10 De...</td>\n",
       "      <td>24/01/2010 23:31</td>\n",
       "      <td>10 Dessaline Road</td>\n",
       "      <td>hungry  grangou.  We are in the Cit?? Castro a...</td>\n",
       "      <td>NaN</td>\n",
       "      <td>18.567320</td>\n",
       "      <td>-72.293280</td>\n",
       "      <td>YES</td>\n",
       "      <td>NO</td>\n",
       "    </tr>\n",
       "    <tr>\n",
       "      <th>1531</th>\n",
       "      <td>2436</td>\n",
       "      <td>Food Needed in Fontamara 27</td>\n",
       "      <td>22/01/2010 23:04</td>\n",
       "      <td>Fontamara 27 (off Rue National 2) Coordinates ...</td>\n",
       "      <td>NOU NAN FONTAMARA 27 PROLONGE NOU PA WE PES?N\\...</td>\n",
       "      <td>NaN</td>\n",
       "      <td>18.532570</td>\n",
       "      <td>-72.367540</td>\n",
       "      <td>YES</td>\n",
       "      <td>NO</td>\n",
       "    </tr>\n",
       "    <tr>\n",
       "      <th>1828</th>\n",
       "      <td>2130</td>\n",
       "      <td>15 People, 5 Babies, Water and Food Needed at ...</td>\n",
       "      <td>23/01/2010 18:07</td>\n",
       "      <td>Airport Runway Entrance - one end of the runwa...</td>\n",
       "      <td>nou sou wout aewopo a antre pis la nou se 15 f...</td>\n",
       "      <td>NaN</td>\n",
       "      <td>18.580320</td>\n",
       "      <td>-72.312390</td>\n",
       "      <td>YES</td>\n",
       "      <td>NO</td>\n",
       "    </tr>\n",
       "    <tr>\n",
       "      <th>2620</th>\n",
       "      <td>1182</td>\n",
       "      <td>Trapped person</td>\n",
       "      <td>19/01/2010 05:19</td>\n",
       "      <td>Delmas, 33 Rue Derrosier Impas Du Crist, Numbe...</td>\n",
       "      <td>Mwen.se MADAM LAINE FRITZ MWEN RETE DELMAS 33 ...</td>\n",
       "      <td>NaN</td>\n",
       "      <td>18.559451</td>\n",
       "      <td>-72.295522</td>\n",
       "      <td>YES</td>\n",
       "      <td>NO</td>\n",
       "    </tr>\n",
       "    <tr>\n",
       "      <th>2622</th>\n",
       "      <td>1179</td>\n",
       "      <td>500 to 600 people in a temporary shelter with ...</td>\n",
       "      <td>19/01/2010 05:57</td>\n",
       "      <td>Grand Goave, Haiti</td>\n",
       "      <td>Nou anviron 500 a 600 moun nan abri pwoviswa g...</td>\n",
       "      <td>NaN</td>\n",
       "      <td>18.431400</td>\n",
       "      <td>-72.787200</td>\n",
       "      <td>YES</td>\n",
       "      <td>NO</td>\n",
       "    </tr>\n",
       "    <tr>\n",
       "      <th>2623</th>\n",
       "      <td>1178</td>\n",
       "      <td>500 to 600 people in a temporary shelter with ...</td>\n",
       "      <td>19/01/2010 05:57</td>\n",
       "      <td>Grand Goave, Haiti</td>\n",
       "      <td>Nou anviron 500 a 600 moun nan abri pwoviswa g...</td>\n",
       "      <td>NaN</td>\n",
       "      <td>18.424764</td>\n",
       "      <td>-72.770300</td>\n",
       "      <td>YES</td>\n",
       "      <td>NO</td>\n",
       "    </tr>\n",
       "  </tbody>\n",
       "</table>\n",
       "</div>"
      ],
      "text/plain": [
       "      Serial                                     INCIDENT TITLE  \\\n",
       "1198    2777  Food needed in Castro area, near airport 10 De...   \n",
       "1531    2436                        Food Needed in Fontamara 27   \n",
       "1828    2130  15 People, 5 Babies, Water and Food Needed at ...   \n",
       "2620    1182                                     Trapped person   \n",
       "2622    1179  500 to 600 people in a temporary shelter with ...   \n",
       "2623    1178  500 to 600 people in a temporary shelter with ...   \n",
       "\n",
       "         INCIDENT DATE                                           LOCATION  \\\n",
       "1198  24/01/2010 23:31                                  10 Dessaline Road   \n",
       "1531  22/01/2010 23:04  Fontamara 27 (off Rue National 2) Coordinates ...   \n",
       "1828  23/01/2010 18:07  Airport Runway Entrance - one end of the runwa...   \n",
       "2620  19/01/2010 05:19  Delmas, 33 Rue Derrosier Impas Du Crist, Numbe...   \n",
       "2622  19/01/2010 05:57                                 Grand Goave, Haiti   \n",
       "2623  19/01/2010 05:57                                 Grand Goave, Haiti   \n",
       "\n",
       "                                            DESCRIPTION CATEGORY   LATITUDE  \\\n",
       "1198  hungry  grangou.  We are in the Cit?? Castro a...      NaN  18.567320   \n",
       "1531  NOU NAN FONTAMARA 27 PROLONGE NOU PA WE PES?N\\...      NaN  18.532570   \n",
       "1828  nou sou wout aewopo a antre pis la nou se 15 f...      NaN  18.580320   \n",
       "2620  Mwen.se MADAM LAINE FRITZ MWEN RETE DELMAS 33 ...      NaN  18.559451   \n",
       "2622  Nou anviron 500 a 600 moun nan abri pwoviswa g...      NaN  18.431400   \n",
       "2623  Nou anviron 500 a 600 moun nan abri pwoviswa g...      NaN  18.424764   \n",
       "\n",
       "      LONGITUDE APPROVED VERIFIED  \n",
       "1198 -72.293280      YES       NO  \n",
       "1531 -72.367540      YES       NO  \n",
       "1828 -72.312390      YES       NO  \n",
       "2620 -72.295522      YES       NO  \n",
       "2622 -72.787200      YES       NO  \n",
       "2623 -72.770300      YES       NO  "
      ]
     },
     "execution_count": 4,
     "metadata": {},
     "output_type": "execute_result"
    }
   ],
   "source": [
    "#solution code\n",
    "\n",
    "df_category_missing = df[df[\"CATEGORY\"].isnull()] ## I created new dataframe which contains all null values in CATEGORY column.\n",
    "\n",
    "print(\"Number of records which have null value in CATEGORY column: \" + str(df_category_missing.index.size))\n",
    "\n",
    "df_category_missing.loc[:]\n"
   ]
  },
  {
   "cell_type": "markdown",
   "metadata": {},
   "source": [
    "### Question 3) \n",
    "\n",
    "If you notice above in the data summary, some of the categories are missing, so we might want to drop these data points. Additionally, call the describe function to show that there are some aberrant locations.\n",
    "Clean the bad locations by considering conditions below and remove the missing categories. \n",
    "\n",
    "Conditions for location: \n",
    "- Latitude should be range of between 18 and 20\n",
    "- Longitude should be range of between -70 and -75\n",
    "            "
   ]
  },
  {
   "cell_type": "code",
   "execution_count": 5,
   "metadata": {},
   "outputs": [
    {
     "name": "stdout",
     "output_type": "stream",
     "text": [
      "OLD  Summary Values\n",
      "\n",
      "            Serial     LATITUDE    LONGITUDE\n",
      "count  3587.000000  3587.000000  3587.000000\n",
      "mean   2080.723446    18.611655   -72.322432\n",
      "std    1171.716976     0.739174     3.653812\n",
      "min       4.000000    18.041313   -74.452757\n",
      "25%    1071.500000    18.524099   -72.417500\n",
      "50%    2164.000000    18.539269   -72.335000\n",
      "75%    3089.500000    18.561810   -72.293473\n",
      "max    4052.000000    50.226029   114.174287\n",
      "****************\n",
      "\n",
      "NEW Summary Values\n",
      "\n",
      "            Serial     LATITUDE    LONGITUDE\n",
      "count  3569.000000  3569.000000  3569.000000\n",
      "mean   2081.498459    18.592503   -72.424994\n",
      "std    1170.311824     0.273695     0.291018\n",
      "min       4.000000    18.041313   -74.452757\n",
      "25%    1074.000000    18.524200   -72.417498\n",
      "50%    2166.000000    18.539269   -72.335000\n",
      "75%    3089.000000    18.561800   -72.293939\n",
      "max    4052.000000    19.940630   -71.099489\n",
      "****************\n"
     ]
    },
    {
     "data": {
      "text/html": [
       "<div>\n",
       "<style scoped>\n",
       "    .dataframe tbody tr th:only-of-type {\n",
       "        vertical-align: middle;\n",
       "    }\n",
       "\n",
       "    .dataframe tbody tr th {\n",
       "        vertical-align: top;\n",
       "    }\n",
       "\n",
       "    .dataframe thead th {\n",
       "        text-align: right;\n",
       "    }\n",
       "</style>\n",
       "<table border=\"1\" class=\"dataframe\">\n",
       "  <thead>\n",
       "    <tr style=\"text-align: right;\">\n",
       "      <th></th>\n",
       "      <th>Serial</th>\n",
       "      <th>INCIDENT TITLE</th>\n",
       "      <th>INCIDENT DATE</th>\n",
       "      <th>LOCATION</th>\n",
       "      <th>DESCRIPTION</th>\n",
       "      <th>CATEGORY</th>\n",
       "      <th>LATITUDE</th>\n",
       "      <th>LONGITUDE</th>\n",
       "      <th>APPROVED</th>\n",
       "      <th>VERIFIED</th>\n",
       "    </tr>\n",
       "  </thead>\n",
       "  <tbody>\n",
       "    <tr>\n",
       "      <th>0</th>\n",
       "      <td>4052</td>\n",
       "      <td>* URGENT * Type O blood donations needed in #J...</td>\n",
       "      <td>05/07/2010 17:26</td>\n",
       "      <td>Jacmel, Haiti</td>\n",
       "      <td>Birthing Clinic in Jacmel #Haiti urgently need...</td>\n",
       "      <td>1. Urgences | Emergency, 3. Public Health,</td>\n",
       "      <td>18.233333</td>\n",
       "      <td>-72.533333</td>\n",
       "      <td>YES</td>\n",
       "      <td>NO</td>\n",
       "    </tr>\n",
       "    <tr>\n",
       "      <th>4</th>\n",
       "      <td>4042</td>\n",
       "      <td>Citi Soleil school</td>\n",
       "      <td>18/05/2010 16:26</td>\n",
       "      <td>Citi Soleil, Haiti</td>\n",
       "      <td>We are working with Haitian (NGO) -The Christi...</td>\n",
       "      <td>1. Urgences | Emergency,</td>\n",
       "      <td>18.571084</td>\n",
       "      <td>-72.334671</td>\n",
       "      <td>YES</td>\n",
       "      <td>NO</td>\n",
       "    </tr>\n",
       "    <tr>\n",
       "      <th>5</th>\n",
       "      <td>4041</td>\n",
       "      <td>Radio Commerce in Sarthe</td>\n",
       "      <td>26/04/2010 13:14</td>\n",
       "      <td>Radio Commerce Shelter, Sarthe</td>\n",
       "      <td>i'm Louinel from Sarthe. I'd to know what can ...</td>\n",
       "      <td>5e. Communication lines down,</td>\n",
       "      <td>18.593707</td>\n",
       "      <td>-72.310079</td>\n",
       "      <td>YES</td>\n",
       "      <td>NO</td>\n",
       "    </tr>\n",
       "    <tr>\n",
       "      <th>6</th>\n",
       "      <td>4040</td>\n",
       "      <td>Contaminated water in Baraderes.</td>\n",
       "      <td>26/04/2010 14:19</td>\n",
       "      <td>Marc near Baraderes</td>\n",
       "      <td>How do we treat water in areas without Pipe?\\t...</td>\n",
       "      <td>4. Menaces | Security Threats, 4e. Assainissem...</td>\n",
       "      <td>18.482800</td>\n",
       "      <td>-73.638800</td>\n",
       "      <td>YES</td>\n",
       "      <td>NO</td>\n",
       "    </tr>\n",
       "    <tr>\n",
       "      <th>7</th>\n",
       "      <td>4039</td>\n",
       "      <td>Violence at &amp;quot;arcahaie bas Saint-Ard&amp;quot;</td>\n",
       "      <td>26/04/2010 14:27</td>\n",
       "      <td>unable to find &amp;quot;arcahaie bas Saint-Ard&amp;qu...</td>\n",
       "      <td>Goodnight at (arcahaie bas Saint-Ard) 2 young ...</td>\n",
       "      <td>4. Menaces | Security Threats,</td>\n",
       "      <td>18.415000</td>\n",
       "      <td>-73.195000</td>\n",
       "      <td>YES</td>\n",
       "      <td>NO</td>\n",
       "    </tr>\n",
       "  </tbody>\n",
       "</table>\n",
       "</div>"
      ],
      "text/plain": [
       "   Serial                                     INCIDENT TITLE  \\\n",
       "0    4052  * URGENT * Type O blood donations needed in #J...   \n",
       "4    4042                                 Citi Soleil school   \n",
       "5    4041                           Radio Commerce in Sarthe   \n",
       "6    4040                   Contaminated water in Baraderes.   \n",
       "7    4039     Violence at &quot;arcahaie bas Saint-Ard&quot;   \n",
       "\n",
       "      INCIDENT DATE                                           LOCATION  \\\n",
       "0  05/07/2010 17:26                                      Jacmel, Haiti   \n",
       "4  18/05/2010 16:26                                 Citi Soleil, Haiti   \n",
       "5  26/04/2010 13:14                     Radio Commerce Shelter, Sarthe   \n",
       "6  26/04/2010 14:19                                Marc near Baraderes   \n",
       "7  26/04/2010 14:27  unable to find &quot;arcahaie bas Saint-Ard&qu...   \n",
       "\n",
       "                                         DESCRIPTION  \\\n",
       "0  Birthing Clinic in Jacmel #Haiti urgently need...   \n",
       "4  We are working with Haitian (NGO) -The Christi...   \n",
       "5  i'm Louinel from Sarthe. I'd to know what can ...   \n",
       "6  How do we treat water in areas without Pipe?\\t...   \n",
       "7  Goodnight at (arcahaie bas Saint-Ard) 2 young ...   \n",
       "\n",
       "                                            CATEGORY   LATITUDE  LONGITUDE  \\\n",
       "0        1. Urgences | Emergency, 3. Public Health,   18.233333 -72.533333   \n",
       "4                          1. Urgences | Emergency,   18.571084 -72.334671   \n",
       "5                     5e. Communication lines down,   18.593707 -72.310079   \n",
       "6  4. Menaces | Security Threats, 4e. Assainissem...  18.482800 -73.638800   \n",
       "7                    4. Menaces | Security Threats,   18.415000 -73.195000   \n",
       "\n",
       "  APPROVED VERIFIED  \n",
       "0      YES       NO  \n",
       "4      YES       NO  \n",
       "5      YES       NO  \n",
       "6      YES       NO  \n",
       "7      YES       NO  "
      ]
     },
     "execution_count": 5,
     "metadata": {},
     "output_type": "execute_result"
    }
   ],
   "source": [
    "#solution code\n",
    "df.dropna(subset=[\"CATEGORY\"],how = \"all\",inplace=True) ## Drops all null values in CATEGORY column\n",
    "\n",
    "lat_long = df[((df[\"LATITUDE\"] < 18) | (df[\"LATITUDE\"] > 20) | (df[\"LONGITUDE\"] > -70) | (df[\"LONGITUDE\"] < -75))].index ## Check for condition\n",
    "\n",
    "\n",
    "print(\"OLD  Summary Values\\n\")\n",
    "print(df.describe())\n",
    "print(\"****************\\n\")\n",
    "df.drop(lat_long,inplace=True) ## drops rows which are not satisfying the condition above.\n",
    "\n",
    "print(\"NEW Summary Values\\n\")\n",
    "print(df.describe())\n",
    "\n",
    "\n",
    "print(\"****************\")\n",
    "\n",
    "\n",
    "\n",
    "df.head()\n",
    "\n",
    "\n"
   ]
  },
  {
   "cell_type": "markdown",
   "metadata": {},
   "source": [
    "Now we might want to do some analysis or visualization of this data by category, but each category field may have multiple categories. Additionally, each category is given as a code plus an English and possibly also a French code name. Thus, a little bit of wrangling is required to get the data into a more agreeable form. First, write the functions to get a list of all the categories and to split each category into a code and an English name"
   ]
  },
  {
   "cell_type": "code",
   "execution_count": 6,
   "metadata": {},
   "outputs": [
    {
     "data": {
      "text/plain": [
       "0           1. Urgences | Emergency, 3. Public Health, \n",
       "4                             1. Urgences | Emergency, \n",
       "5                        5e. Communication lines down, \n",
       "6     4. Menaces | Security Threats, 4e. Assainissem...\n",
       "7                       4. Menaces | Security Threats, \n",
       "8     2. Urgences logistiques | Vital Lines, 2f. San...\n",
       "9     2. Urgences logistiques | Vital Lines, 2d. Ref...\n",
       "10    1a. Highly vulnerable, 2. Urgences logistiques...\n",
       "11    4. Menaces | Security Threats, 4e. Assainissem...\n",
       "12    2. Urgences logistiques | Vital Lines, 2d. Ref...\n",
       "Name: CATEGORY, dtype: object"
      ]
     },
     "execution_count": 6,
     "metadata": {},
     "output_type": "execute_result"
    }
   ],
   "source": [
    "df[\"CATEGORY\"].head(10)"
   ]
  },
  {
   "cell_type": "code",
   "execution_count": 7,
   "metadata": {},
   "outputs": [
    {
     "name": "stdout",
     "output_type": "stream",
     "text": [
      "First 8 element of list of Categories:\n",
      " ['1. Urgences | Emergency', ' 3. Public Health', '1. Urgences | Emergency', '5e. Communication lines down', '4. Menaces | Security Threats', ' 4e. Assainissement eau et hygiene | Water sanitation and hygiene promotion', '4. Menaces | Security Threats', '2. Urgences logistiques | Vital Lines']\n"
     ]
    }
   ],
   "source": [
    "#solution code\n",
    "def getCategoriesSplitted(df):\n",
    "    categorylines = df.CATEGORY.unique()\n",
    "    categoriesDivided = []\n",
    "\n",
    "    for i in categorylines:\n",
    "        temp_category=i.split(\",\")\n",
    "        for j in temp_category:\n",
    "            if j == temp_category[-1]:  # prevent to add extra \" \" elements to the categoriesDivided list.\n",
    "                break  \n",
    "            categoriesDivided.append(j)\n",
    "\n",
    "    return categoriesDivided\n",
    "Cat_without_translation = getCategoriesSplitted(df)\n",
    "print(\"First 8 element of list of Categories:\\n\",Cat_without_translation[:8])\n",
    "\n",
    "\n",
    "\n"
   ]
  },
  {
   "cell_type": "markdown",
   "metadata": {},
   "source": [
    "You can better understand how to write a function by looking at the result obtained from the **_get english_** function below."
   ]
  },
  {
   "attachments": {
    "get_english.JPG": {
     "image/jpeg": "[encoded data removed]"
    }
   },
   "cell_type": "markdown",
   "metadata": {},
   "source": [
    "![get_english.JPG](attachment:get_english.JPG)"
   ]
  },
  {
   "cell_type": "code",
   "execution_count": 8,
   "metadata": {},
   "outputs": [
    {
     "name": "stdout",
     "output_type": "stream",
     "text": [
      "['5e', 'Communication lines down']\n"
     ]
    }
   ],
   "source": [
    "#solution code\n",
    "def get_english(category):\n",
    "    cat_list = category.split(\".\")\n",
    "    if \"|\" in cat_list[1]:\n",
    "        line_list = cat_list[1].split(\"|\")\n",
    "        cat_list[1] = line_list[1][1:]\n",
    "    else:\n",
    "        cat_list[1] = cat_list[1][1:]\n",
    "    print(cat_list)\n",
    "\n",
    "\n",
    "get_english(Cat_without_translation[3])  # Example of get_english function.\n"
   ]
  },
  {
   "cell_type": "markdown",
   "metadata": {},
   "source": [
    "### Question 4)\n",
    "\n",
    "Write a function to make a dict mapping code to name for \"CATEGORY\" column."
   ]
  },
  {
   "cell_type": "code",
   "execution_count": 9,
   "metadata": {},
   "outputs": [
    {
     "data": {
      "text/plain": [
       "'Earthquake and aftershocks'"
      ]
     },
     "execution_count": 9,
     "metadata": {},
     "output_type": "execute_result"
    }
   ],
   "source": [
    "#solution code\n",
    "def get_dict(list_of_Categories): # takes argument of list of categories. I have to convert column to list but I already wrote that function so I passed list of categories directly to that function to avoid duplicate code.\n",
    "    category_dict = {}\n",
    "\n",
    "    for i in list_of_Categories:\n",
    "        cat_list = i.split(\".\")\n",
    "        if \"|\" in cat_list[1]:\n",
    "            line_list = cat_list[1].split(\"|\")\n",
    "            cat_list[1] = line_list[1][1:]\n",
    "        else:\n",
    "            cat_list[1] = cat_list[1][1:]\n",
    "        \n",
    "        val = cat_list[1]\n",
    "        key = cat_list[0]\n",
    "        category_dict[key] = val\n",
    "\n",
    "    return category_dict\n",
    "\n",
    "english_mapping = get_dict(Cat_without_translation) #  Used Cat_without_translation  as listed categories.\n",
    "\n",
    "\n",
    "english_mapping[\"6c\"]\n",
    "\n"
   ]
  },
  {
   "cell_type": "markdown",
   "metadata": {},
   "source": [
    "You can better understand how to write a function by looking at the result obtained from the **_english_mapping_** below."
   ]
  },
  {
   "attachments": {
    "dict_mapping-2.JPG": {
     "image/jpeg": "[encoded data removed]"
    }
   },
   "cell_type": "markdown",
   "metadata": {},
   "source": [
    "![dict_mapping-2.JPG](attachment:dict_mapping-2.JPG)"
   ]
  },
  {
   "cell_type": "markdown",
   "metadata": {},
   "source": [
    "### Question 5) \n",
    "Read the \"births.csv\" file as a DataFrame object. Use a pivot table to understand the data. Add a column called \"quinquennial\" to analyze male and female total births every five years."
   ]
  },
  {
   "cell_type": "code",
   "execution_count": 10,
   "metadata": {},
   "outputs": [
    {
     "name": "stdout",
     "output_type": "stream",
     "text": [
      "Index(['year', 'month', 'day', 'gender', 'births'], dtype='object')\n",
      "15547\n"
     ]
    },
    {
     "data": {
      "text/html": [
       "<div>\n",
       "<style scoped>\n",
       "    .dataframe tbody tr th:only-of-type {\n",
       "        vertical-align: middle;\n",
       "    }\n",
       "\n",
       "    .dataframe tbody tr th {\n",
       "        vertical-align: top;\n",
       "    }\n",
       "\n",
       "    .dataframe thead th {\n",
       "        text-align: right;\n",
       "    }\n",
       "</style>\n",
       "<table border=\"1\" class=\"dataframe\">\n",
       "  <thead>\n",
       "    <tr style=\"text-align: right;\">\n",
       "      <th></th>\n",
       "      <th>year</th>\n",
       "      <th>month</th>\n",
       "      <th>day</th>\n",
       "      <th>gender</th>\n",
       "      <th>births</th>\n",
       "    </tr>\n",
       "  </thead>\n",
       "  <tbody>\n",
       "    <tr>\n",
       "      <th>0</th>\n",
       "      <td>1969</td>\n",
       "      <td>1</td>\n",
       "      <td>1.0</td>\n",
       "      <td>F</td>\n",
       "      <td>4046</td>\n",
       "    </tr>\n",
       "    <tr>\n",
       "      <th>1</th>\n",
       "      <td>1969</td>\n",
       "      <td>1</td>\n",
       "      <td>1.0</td>\n",
       "      <td>M</td>\n",
       "      <td>4440</td>\n",
       "    </tr>\n",
       "    <tr>\n",
       "      <th>2</th>\n",
       "      <td>1969</td>\n",
       "      <td>1</td>\n",
       "      <td>2.0</td>\n",
       "      <td>F</td>\n",
       "      <td>4454</td>\n",
       "    </tr>\n",
       "    <tr>\n",
       "      <th>3</th>\n",
       "      <td>1969</td>\n",
       "      <td>1</td>\n",
       "      <td>2.0</td>\n",
       "      <td>M</td>\n",
       "      <td>4548</td>\n",
       "    </tr>\n",
       "    <tr>\n",
       "      <th>4</th>\n",
       "      <td>1969</td>\n",
       "      <td>1</td>\n",
       "      <td>3.0</td>\n",
       "      <td>F</td>\n",
       "      <td>4548</td>\n",
       "    </tr>\n",
       "    <tr>\n",
       "      <th>...</th>\n",
       "      <td>...</td>\n",
       "      <td>...</td>\n",
       "      <td>...</td>\n",
       "      <td>...</td>\n",
       "      <td>...</td>\n",
       "    </tr>\n",
       "    <tr>\n",
       "      <th>95</th>\n",
       "      <td>1969</td>\n",
       "      <td>2</td>\n",
       "      <td>16.0</td>\n",
       "      <td>M</td>\n",
       "      <td>4416</td>\n",
       "    </tr>\n",
       "    <tr>\n",
       "      <th>96</th>\n",
       "      <td>1969</td>\n",
       "      <td>2</td>\n",
       "      <td>17.0</td>\n",
       "      <td>F</td>\n",
       "      <td>4768</td>\n",
       "    </tr>\n",
       "    <tr>\n",
       "      <th>97</th>\n",
       "      <td>1969</td>\n",
       "      <td>2</td>\n",
       "      <td>17.0</td>\n",
       "      <td>M</td>\n",
       "      <td>5054</td>\n",
       "    </tr>\n",
       "    <tr>\n",
       "      <th>98</th>\n",
       "      <td>1969</td>\n",
       "      <td>2</td>\n",
       "      <td>18.0</td>\n",
       "      <td>F</td>\n",
       "      <td>4962</td>\n",
       "    </tr>\n",
       "    <tr>\n",
       "      <th>99</th>\n",
       "      <td>1969</td>\n",
       "      <td>2</td>\n",
       "      <td>18.0</td>\n",
       "      <td>M</td>\n",
       "      <td>5214</td>\n",
       "    </tr>\n",
       "  </tbody>\n",
       "</table>\n",
       "<p>100 rows × 5 columns</p>\n",
       "</div>"
      ],
      "text/plain": [
       "    year  month   day gender  births\n",
       "0   1969      1   1.0      F    4046\n",
       "1   1969      1   1.0      M    4440\n",
       "2   1969      1   2.0      F    4454\n",
       "3   1969      1   2.0      M    4548\n",
       "4   1969      1   3.0      F    4548\n",
       "..   ...    ...   ...    ...     ...\n",
       "95  1969      2  16.0      M    4416\n",
       "96  1969      2  17.0      F    4768\n",
       "97  1969      2  17.0      M    5054\n",
       "98  1969      2  18.0      F    4962\n",
       "99  1969      2  18.0      M    5214\n",
       "\n",
       "[100 rows x 5 columns]"
      ]
     },
     "execution_count": 10,
     "metadata": {},
     "output_type": "execute_result"
    }
   ],
   "source": [
    "#solution code\n",
    "\n",
    "df_birthday = pd.read_csv(\"births.csv\")\n",
    "print(df_birthday.columns)\n",
    "print(df_birthday.index.size)\n",
    "df_birthday.head(100)"
   ]
  },
  {
   "cell_type": "code",
   "execution_count": 33,
   "metadata": {},
   "outputs": [
    {
     "name": "stdout",
     "output_type": "stream",
     "text": [
      "         births         \n",
      "gender        F        M\n",
      "year                    \n",
      "1969    1753634  1846572\n",
      "1970    1819164  1918636\n",
      "1971    1736774  1826774\n",
      "1972    1592347  1673888\n",
      "1973    1533102  1613023\n",
      "('births', 'F')\n",
      "('births', 'M')\n"
     ]
    }
   ],
   "source": [
    "df_pivot = pd.pivot_table(data = df_birthday[[\"year\",\"gender\",\"births\"]],index=\"year\",columns=\"gender\",aggfunc=\"sum\")\n",
    "\n",
    "print(df_pivot.head())\n",
    "for i in df_pivot:\n",
    "    print(i)"
   ]
  },
  {
   "cell_type": "code",
   "execution_count": 12,
   "metadata": {},
   "outputs": [
    {
     "data": {
      "text/plain": [
       "<pandas.core.groupby.generic.DataFrameGroupBy object at 0x0000014809A010A0>"
      ]
     },
     "execution_count": 12,
     "metadata": {},
     "output_type": "execute_result"
    }
   ],
   "source": [
    "df_birthday.groupby(\"year\")"
   ]
  },
  {
   "cell_type": "markdown",
   "metadata": {},
   "source": [
    "### Question 6)\n",
    "Plot the total number of US births by year and gender to see the annual trend in births by gender. Make your own comment for the graph."
   ]
  },
  {
   "cell_type": "code",
   "execution_count": 13,
   "metadata": {},
   "outputs": [
    {
     "data": {
      "text/plain": [
       "year  gender\n",
       "1969  F         1753634\n",
       "      M         1846572\n",
       "1970  F         1819164\n",
       "      M         1918636\n",
       "1971  F         1736774\n",
       "                 ...   \n",
       "2006  M         2188268\n",
       "2007  F         2111890\n",
       "      M         2212118\n",
       "2008  F         2077929\n",
       "      M         2177227\n",
       "Name: births, Length: 80, dtype: int64"
      ]
     },
     "execution_count": 13,
     "metadata": {},
     "output_type": "execute_result"
    }
   ],
   "source": [
    "#solution code\n",
    "df_birthday.groupby([\"year\",\"gender\"])[\"births\"].sum() ## Returns sum value of every year splitted by gender."
   ]
  },
  {
   "cell_type": "code",
   "execution_count": 14,
   "metadata": {},
   "outputs": [
    {
     "data": {
      "image/png": "[encoded data removed]",
      "text/plain": [
       "<Figure size 640x480 with 1 Axes>"
      ]
     },
     "metadata": {},
     "output_type": "display_data"
    }
   ],
   "source": [
    "\n",
    "a = df_birthday.groupby([\"year\",\"gender\"])[\"births\"].sum().values # Birth values for 2 genders. F-M-F-M -- goes like that.\n",
    "\n",
    "Birth_male = []\n",
    "Birth_Female = []\n",
    "\n",
    "for i in range(len(a)):\n",
    "    if i % 2 == 0:\n",
    "        Birth_Female.append(a[i])\n",
    "    else:\n",
    "        Birth_male.append(a[i])\n",
    "\n",
    "plt.plot(df_birthday[\"year\"].unique(),Birth_male,color=\"blue\",label = \"Male\")\n",
    "plt.plot(df_birthday[\"year\"].unique(),Birth_Female,color=\"red\",label = \"Female\")\n",
    "plt.legend()\n",
    "plt.title(\"Total Birth Number by Each Year and Gender\")\n",
    "plt.show()\n",
    "\n",
    "\n",
    "# Every year between 1969 and 2008, number of birth number of boys is higher than girls. Also their changing trends are  similar."
   ]
  },
  {
   "cell_type": "markdown",
   "metadata": {},
   "source": [
    "### Question 7)\n",
    "Display the mean of birth values for females and males in the same histogram.\n",
    "\n",
    "Note: x-axis: mean values, y-axis: year of birth"
   ]
  },
  {
   "cell_type": "code",
   "execution_count": 15,
   "metadata": {},
   "outputs": [],
   "source": [
    "#solution code\n",
    "val=df_birthday.groupby([\"year\",\"gender\"],as_index=False)[\"births\"].sum().values\n",
    "#[1969 'F' 1753634]\n",
    "#[1969 'M' 1846572]\n",
    "#[1970 'F' 1819164]\n",
    "#[1970 'M' 1918636]\n",
    "#[1971 'F' 1736774]\n",
    "# Returns list that contains value like above. \n"
   ]
  },
  {
   "cell_type": "code",
   "execution_count": 16,
   "metadata": {},
   "outputs": [],
   "source": [
    "mean_M = []\n",
    "mean_F = []\n",
    "\n",
    "for i in range(len(val)):\n",
    "    val[i][2] = val[i][2] /12 # .mean() is not working since there are null values in the last part of the dataset.\n",
    "    if (i % 2 == 0):\n",
    "        mean_F.append(val[i][2])\n",
    "    else:\n",
    "        mean_M.append(val[i][2])"
   ]
  },
  {
   "cell_type": "code",
   "execution_count": 17,
   "metadata": {},
   "outputs": [
    {
     "data": {
      "image/png": "[encoded data removed]",
      "text/plain": [
       "<Figure size 1100x1100 with 1 Axes>"
      ]
     },
     "metadata": {},
     "output_type": "display_data"
    }
   ],
   "source": [
    "\n",
    "fig,plot = plt.subplots()\n",
    "fig.set_size_inches(11,11)\n",
    "width=0.25\n",
    "years = df_birthday[\"year\"].unique() # get year values \n",
    "\n",
    "\n",
    "\n",
    "\n",
    "\n",
    "plot.barh(years-0.12,mean_M,width,color =\"blue\",label=\"Male\")\n",
    "plot.barh(years+0.12,mean_F,width,color=\"red\",label=\"Female\")\n",
    "\n",
    "\n",
    "\n",
    "plt.ylim(years[0]-1,years[-1]+1)\n",
    "plt.yticks(years)\n",
    "plt.legend()\n",
    "plt.title(\"Mean of Birth Numbers For Each Year By Gender\")\n",
    "plt.xlabel(\"Mean of Birth Number Throughout Year\")\n",
    "plt.ylabel(\"Year\")\n",
    "plt.show()"
   ]
  },
  {
   "cell_type": "markdown",
   "metadata": {},
   "source": [
    "### Question 8)\n",
    "\n",
    "Read the \"tip.csv\" file as a DataFrame object. Add a column presents tip percentage of total bill and generate a KDE (Kernel Density Estimate) plot.\n"
   ]
  },
  {
   "cell_type": "code",
   "execution_count": 18,
   "metadata": {},
   "outputs": [
    {
     "data": {
      "text/html": [
       "<div>\n",
       "<style scoped>\n",
       "    .dataframe tbody tr th:only-of-type {\n",
       "        vertical-align: middle;\n",
       "    }\n",
       "\n",
       "    .dataframe tbody tr th {\n",
       "        vertical-align: top;\n",
       "    }\n",
       "\n",
       "    .dataframe thead th {\n",
       "        text-align: right;\n",
       "    }\n",
       "</style>\n",
       "<table border=\"1\" class=\"dataframe\">\n",
       "  <thead>\n",
       "    <tr style=\"text-align: right;\">\n",
       "      <th></th>\n",
       "      <th>total_bill</th>\n",
       "      <th>tip</th>\n",
       "      <th>sex</th>\n",
       "      <th>smoker</th>\n",
       "      <th>day</th>\n",
       "      <th>time</th>\n",
       "      <th>size</th>\n",
       "      <th>Tip_percentage</th>\n",
       "    </tr>\n",
       "  </thead>\n",
       "  <tbody>\n",
       "    <tr>\n",
       "      <th>0</th>\n",
       "      <td>16.99</td>\n",
       "      <td>1.01</td>\n",
       "      <td>Female</td>\n",
       "      <td>No</td>\n",
       "      <td>Sun</td>\n",
       "      <td>Dinner</td>\n",
       "      <td>2</td>\n",
       "      <td>5.944673</td>\n",
       "    </tr>\n",
       "    <tr>\n",
       "      <th>1</th>\n",
       "      <td>10.34</td>\n",
       "      <td>1.66</td>\n",
       "      <td>Male</td>\n",
       "      <td>No</td>\n",
       "      <td>Sun</td>\n",
       "      <td>Dinner</td>\n",
       "      <td>3</td>\n",
       "      <td>16.054159</td>\n",
       "    </tr>\n",
       "    <tr>\n",
       "      <th>2</th>\n",
       "      <td>21.01</td>\n",
       "      <td>3.50</td>\n",
       "      <td>Male</td>\n",
       "      <td>No</td>\n",
       "      <td>Sun</td>\n",
       "      <td>Dinner</td>\n",
       "      <td>3</td>\n",
       "      <td>16.658734</td>\n",
       "    </tr>\n",
       "    <tr>\n",
       "      <th>3</th>\n",
       "      <td>23.68</td>\n",
       "      <td>3.31</td>\n",
       "      <td>Male</td>\n",
       "      <td>No</td>\n",
       "      <td>Sun</td>\n",
       "      <td>Dinner</td>\n",
       "      <td>2</td>\n",
       "      <td>13.978041</td>\n",
       "    </tr>\n",
       "    <tr>\n",
       "      <th>4</th>\n",
       "      <td>24.59</td>\n",
       "      <td>3.61</td>\n",
       "      <td>Female</td>\n",
       "      <td>No</td>\n",
       "      <td>Sun</td>\n",
       "      <td>Dinner</td>\n",
       "      <td>4</td>\n",
       "      <td>14.680765</td>\n",
       "    </tr>\n",
       "  </tbody>\n",
       "</table>\n",
       "</div>"
      ],
      "text/plain": [
       "   total_bill   tip     sex smoker  day    time  size  Tip_percentage\n",
       "0       16.99  1.01  Female     No  Sun  Dinner     2        5.944673\n",
       "1       10.34  1.66    Male     No  Sun  Dinner     3       16.054159\n",
       "2       21.01  3.50    Male     No  Sun  Dinner     3       16.658734\n",
       "3       23.68  3.31    Male     No  Sun  Dinner     2       13.978041\n",
       "4       24.59  3.61  Female     No  Sun  Dinner     4       14.680765"
      ]
     },
     "execution_count": 18,
     "metadata": {},
     "output_type": "execute_result"
    }
   ],
   "source": [
    "# solution code\n",
    "df_tip = pd.read_csv(\"tip.csv\")\n",
    "\n",
    "df_tip[\"Tip_percentage\"] = df_tip[\"tip\"] / df_tip[\"total_bill\"] * 100\n",
    "df_tip.head()\n"
   ]
  },
  {
   "cell_type": "code",
   "execution_count": 19,
   "metadata": {},
   "outputs": [
    {
     "data": {
      "text/plain": [
       "<AxesSubplot: ylabel='Density'>"
      ]
     },
     "execution_count": 19,
     "metadata": {},
     "output_type": "execute_result"
    },
    {
     "data": {
      "image/png": "[encoded data removed]",
      "text/plain": [
       "<Figure size 640x480 with 1 Axes>"
      ]
     },
     "metadata": {},
     "output_type": "display_data"
    }
   ],
   "source": [
    "# I couldn't figure out which part should I plot, so I plotted all dataframe and tip percentage column seperately.\n",
    "sbn.kdeplot(df_tip)"
   ]
  },
  {
   "cell_type": "code",
   "execution_count": 20,
   "metadata": {},
   "outputs": [
    {
     "data": {
      "text/plain": [
       "<AxesSubplot: xlabel='Tip_percentage', ylabel='Density'>"
      ]
     },
     "execution_count": 20,
     "metadata": {},
     "output_type": "execute_result"
    },
    {
     "data": {
      "image/png": "[encoded data removed]",
      "text/plain": [
       "<Figure size 640x480 with 1 Axes>"
      ]
     },
     "metadata": {},
     "output_type": "display_data"
    }
   ],
   "source": [
    "sbn.kdeplot(df_tip,x=df_tip[\"Tip_percentage\"])"
   ]
  },
  {
   "cell_type": "markdown",
   "metadata": {},
   "source": [
    "### Question 9)\n",
    "Group the tip data by sex and smoker to present mean and standard deviation scores for tip percentage."
   ]
  },
  {
   "cell_type": "code",
   "execution_count": 21,
   "metadata": {},
   "outputs": [
    {
     "name": "stdout",
     "output_type": "stream",
     "text": [
      "Mean Values\n",
      "sex     smoker\n",
      "Female  No        15.692097\n",
      "        Yes       18.215035\n",
      "Male    No        16.066872\n",
      "        Yes       15.277118\n",
      "Name: Tip_percentage, dtype: float64 \n",
      "\n",
      "Standart Deviation\n"
     ]
    },
    {
     "data": {
      "text/plain": [
       "sex     smoker\n",
       "Female  No        3.642118\n",
       "        Yes       7.159451\n",
       "Male    No        4.184875\n",
       "        Yes       9.058794\n",
       "Name: Tip_percentage, dtype: float64"
      ]
     },
     "execution_count": 21,
     "metadata": {},
     "output_type": "execute_result"
    }
   ],
   "source": [
    "# solution code\n",
    "print(\"Mean Values\")\n",
    "\n",
    "print(df_tip.groupby([\"sex\",\"smoker\"])[\"Tip_percentage\"].mean() , \"\\n\")\n",
    "\n",
    "\n",
    "\n",
    "print(\"Standart Deviation\")\n",
    "df_tip.groupby([\"sex\",\"smoker\"])[\"Tip_percentage\"].std()\n"
   ]
  },
  {
   "cell_type": "markdown",
   "metadata": {},
   "source": [
    "### Question 10)\n",
    "Create a stacked bar plot displaying the frequency of data points for each size on each day"
   ]
  },
  {
   "cell_type": "code",
   "execution_count": 22,
   "metadata": {},
   "outputs": [
    {
     "name": "stdout",
     "output_type": "stream",
     "text": [
      "********************************************************************************\n",
      "[['Fri' 2 16]\n",
      " ['Fri' 4 1]\n",
      " ['Fri' 3 1]\n",
      " ['Fri' 1 1]\n",
      " ['Sat' 2 53]\n",
      " ['Sat' 3 18]\n",
      " ['Sat' 4 13]\n",
      " ['Sat' 1 2]\n",
      " ['Sat' 5 1]\n",
      " ['Sun' 2 39]\n",
      " ['Sun' 4 18]\n",
      " ['Sun' 3 15]\n",
      " ['Sun' 5 3]\n",
      " ['Sun' 6 1]\n",
      " ['Thur' 2 48]\n",
      " ['Thur' 4 5]\n",
      " ['Thur' 3 4]\n",
      " ['Thur' 6 3]\n",
      " ['Thur' 1 1]\n",
      " ['Thur' 5 1]]\n",
      "********************************************************************************\n"
     ]
    }
   ],
   "source": [
    "# soution code\n",
    "\n",
    "labels = [\"Fri\",\"Sat\",\"Sun\",\"Thur\"]\n",
    "all_list=df_tip.groupby(\"day\",as_index=False)[[\"size\"]].value_counts().values\n",
    "print(\"********************************************************************************\")\n",
    "print(all_list[:])\n",
    "print(\"********************************************************************************\")\n",
    "\n",
    "# Created 0 list of size of labels.\n",
    "\n",
    "size1 = [0 for i in range(len(labels))]\n",
    "size2 = [0 for i in range(len(labels))]\n",
    "size3 = [0 for i in range(len(labels))]\n",
    "size4 = [0 for i in range(len(labels))]\n",
    "size5 = [0 for i in range(len(labels))]\n",
    "size6 = [0 for i in range(len(labels))]\n",
    "\n",
    "\n",
    "# Filling the size occurences.\n",
    "\n",
    "for i in all_list:\n",
    "    if i[0] == \"Fri\":\n",
    "        if i[1] == 1:\n",
    "            size1[0] = i[2]\n",
    "        elif i[1] == 2:\n",
    "            size2[0] = i[2]\n",
    "        elif i[1] == 3:\n",
    "            size3[0] = i[2]\n",
    "        elif i[1] == 4:\n",
    "            size4[0] = i[2]\n",
    "        elif i[1] == 5:\n",
    "            size5[0] = i[2]\n",
    "        elif i[1] == 6:\n",
    "            size6[0] = i[2]\n",
    "        \n",
    "    if i[0] == \"Sat\":\n",
    "        if i[1] == 1:\n",
    "            size1[1] = i[2]\n",
    "        elif i[1] == 2:\n",
    "            size2[1] = i[2]\n",
    "        elif i[1] == 3:\n",
    "            size3[1] = i[2]\n",
    "        elif i[1] == 4:\n",
    "            size4[1] = i[2]\n",
    "        elif i[1] == 5:\n",
    "            size5[1] = i[2]\n",
    "        elif i[1] == 6:\n",
    "            size6[1] = i[2]\n",
    "       \n",
    "\n",
    "    if i[0] == \"Sun\":\n",
    "        if i[1] == 1:\n",
    "            size1[2] = i[2]\n",
    "        elif i[1] == 2:\n",
    "            size2[2] = i[2]\n",
    "        elif i[1] == 3:\n",
    "            size3[2] = i[2]\n",
    "        elif i[1] == 4:\n",
    "            size4[2] = i[2]\n",
    "        elif i[1] == 5:\n",
    "            size5[2] = i[2]\n",
    "        elif i[1] == 6:\n",
    "            size6[2] = i[2]\n",
    "        \n",
    "    if i[0] == \"Thur\":\n",
    "        if i[1] == 1:\n",
    "            size1[3] = i[2]\n",
    "        elif i[1] == 2:\n",
    "            size2[3] = i[2]\n",
    "        elif i[1] == 3:\n",
    "            size3[3] = i[2]\n",
    "        elif i[1] == 4:\n",
    "            size4[3] = i[2]\n",
    "        elif i[1] == 5:\n",
    "            size5[3] = i[2]\n",
    "        elif i[1] == 6:\n",
    "            size6[3] = i[2]\n",
    "\n"
   ]
  },
  {
   "cell_type": "code",
   "execution_count": 23,
   "metadata": {},
   "outputs": [
    {
     "data": {
      "image/png": "[encoded data removed]",
      "text/plain": [
       "<Figure size 640x480 with 1 Axes>"
      ]
     },
     "metadata": {},
     "output_type": "display_data"
    }
   ],
   "source": [
    "fig, bars = plt.subplots()\n",
    "\n",
    "bars.bar(labels,size1,label=\"1\")\n",
    "bars.bar(labels,size2,label = \"2\",bottom = size1)\n",
    "bars.bar(labels,size3,label = \"3\",bottom = size2)\n",
    "bars.bar(labels,size4,label = \"4\",bottom = size1)\n",
    "bars.bar(labels,size5,label = \"5\",bottom = size1)\n",
    "bars.bar(labels,size6,label = \"6\",bottom =size1)\n",
    "plt.ylabel(\"Frequency of size of tip\")\n",
    "plt.xlabel(\"Days\")\n",
    "plt.legend()\n",
    "plt.show()"
   ]
  },
  {
   "cell_type": "markdown",
   "metadata": {},
   "source": [
    "### Question 11)\n",
    "\n",
    "Create a new stacked bar plot that has normalized values from a graph at Q10 so that each row sums to 1."
   ]
  },
  {
   "cell_type": "code",
   "execution_count": 24,
   "metadata": {},
   "outputs": [
    {
     "name": "stdout",
     "output_type": "stream",
     "text": [
      "[19, 87, 76, 62]\n"
     ]
    },
    {
     "data": {
      "image/png": "[encoded data removed]",
      "text/plain": [
       "<Figure size 640x480 with 1 Axes>"
      ]
     },
     "metadata": {},
     "output_type": "display_data"
    }
   ],
   "source": [
    "# solution code\n",
    "labels = [\"Fri\",\"Sat\",\"Sun\",\"Thur\"]\n",
    "all_list=df_tip.groupby(\"day\",as_index=False)[[\"size\"]].value_counts().values\n",
    "\n",
    "\n",
    "totals = [a+b+c+d+e+f for a,b,c,d,e,f in zip(size1,size2,size3,size4,size5,size6)]\n",
    "print(totals)\n",
    "\n",
    "size1_per = [i/j *100 for i,j in zip(size1,totals)]\n",
    "size2_per = [i/j *100 for i,j in zip(size2,totals)]\n",
    "size3_per = [i/j *100 for i,j in zip(size3,totals)]\n",
    "size4_per = [i/j *100 for i,j in zip(size4,totals)]\n",
    "size5_per = [i/j *100 for i,j in zip(size5,totals)]\n",
    "size6_per = [i/j *100 for i,j in zip(size6,totals)]\n",
    "\n",
    "\n",
    "fig, bars = plt.subplots()\n",
    "\n",
    "bars.bar(labels,size1_per,label = \"1\")\n",
    "bars.bar(labels,size2_per,label = \"2\",bottom = size1_per)\n",
    "bars.bar(labels,size3_per,label = \"3\",bottom = [i+j for i,j in zip(size1_per, size2_per)])\n",
    "bars.bar(labels,size4_per,label = \"4\",bottom = [i+j+k for i,j,k in zip(size1_per,size2_per,size3_per)])\n",
    "bars.bar(labels,size5_per,label = \"5\",bottom = [i+j+k+l for i,j,k,l in zip(size1_per,size2_per,size3_per,size4_per)])\n",
    "bars.bar(labels,size6_per,label = \"6\",bottom = [i+j+k+l+m for i,j,k,l,m in zip (size1_per,size2_per,size3_per,size4_per,size5_per)])\n",
    "plt.ylabel(\"Percentage distributon of tip\")\n",
    "plt.xlabel(\"Days\")\n",
    "plt.legend()\n",
    "plt.show()"
   ]
  }
 ],
 "metadata": {
  "kernelspec": {
   "display_name": "Python 3.8.10 64-bit",
   "language": "python",
   "name": "python3"
  },
  "language_info": {
   "codemirror_mode": {
    "name": "ipython",
    "version": 3
   },
   "file_extension": ".py",
   "mimetype": "text/x-python",
   "name": "python",
   "nbconvert_exporter": "python",
   "pygments_lexer": "ipython3",
   "version": "3.8.10"
  },
  "vscode": {
   "interpreter": {
    "hash": "7816dd7f3e00a3d9d1f2cda84535ae1528e75b6d2b8d293af7f7ca10792d6cff"
   }
  }
 },
 "nbformat": 4,
 "nbformat_minor": 1
}
